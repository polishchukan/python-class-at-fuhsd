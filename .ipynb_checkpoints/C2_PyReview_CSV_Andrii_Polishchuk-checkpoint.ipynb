{
 "cells": [
  {
   "cell_type": "markdown",
   "metadata": {},
   "source": [
    "## Class 2 Python for Data Science\n",
    "### Python Dictionary\n",
    "### List Comprehension\n",
    "### Reading CSV file and fix data errors"
   ]
  },
  {
   "cell_type": "markdown",
   "metadata": {},
   "source": [
    "One of Python's built−in datatypes is the dictionary, which defines one−to−one relationships between keys and values.\n",
    "\n",
    "\"Like lists dictionaries can easily be changed, can be shrunk and grown ad libitum at run time. They shrink and grow without the necessity of making copies. Dictionaries can be contained in lists and vice versa. But what's the difference between lists and dictionaries? Lists are ordered sets of objects, whereas dictionaries are <b>unordered sets.</b> But the main difference is that items in dictionaries are accessed via keys and not via their position.\"\n",
    "\n",
    "<br>\n",
    "A pair of braces creates an empty dictionary: {}. Placing a comma-separated list of key:value pairs within the braces adds initial key: value pairs to the dictionary; this is also the way dictionaries are written on output."
   ]
  },
  {
   "cell_type": "code",
   "execution_count": 3,
   "metadata": {},
   "outputs": [
    {
     "data": {
      "text/plain": [
       "{'fruit': 'orange, watermelon, grape', 'vegetable': 'onion, mushroom, lettuce'}"
      ]
     },
     "execution_count": 3,
     "metadata": {},
     "output_type": "execute_result"
    }
   ],
   "source": [
    "dict1 = {\"fruit\" : \"orange, watermelon, grape\", \"vegetable\":\"onion, mushroom, lettuce\"}\n",
    "dict1"
   ]
  },
  {
   "cell_type": "markdown",
   "metadata": {},
   "source": [
    "### Keys"
   ]
  },
  {
   "cell_type": "markdown",
   "metadata": {},
   "source": [
    "Get the keys from \"dict1\""
   ]
  },
  {
   "cell_type": "code",
   "execution_count": 4,
   "metadata": {},
   "outputs": [
    {
     "data": {
      "text/plain": [
       "dict_keys(['fruit', 'vegetable'])"
      ]
     },
     "execution_count": 4,
     "metadata": {},
     "output_type": "execute_result"
    }
   ],
   "source": [
    "dict1.keys()"
   ]
  },
  {
   "cell_type": "markdown",
   "metadata": {},
   "source": [
    "### Indexing With Keys?"
   ]
  },
  {
   "cell_type": "markdown",
   "metadata": {},
   "source": [
    "What happens if you try to run \"<b>dict1[0]</b>\"? Why?\n"
   ]
  },
  {
   "cell_type": "code",
   "execution_count": 211,
   "metadata": {},
   "outputs": [
    {
     "data": {
      "text/plain": [
       "'orange, watermelon, grape'"
      ]
     },
     "execution_count": 211,
     "metadata": {},
     "output_type": "execute_result"
    }
   ],
   "source": [
    "dict1[\"fruit\"]"
   ]
  },
  {
   "cell_type": "markdown",
   "metadata": {},
   "source": [
    "OR"
   ]
  },
  {
   "cell_type": "code",
   "execution_count": 212,
   "metadata": {},
   "outputs": [
    {
     "data": {
      "text/plain": [
       "'orange, watermelon, grape'"
      ]
     },
     "execution_count": 212,
     "metadata": {},
     "output_type": "execute_result"
    }
   ],
   "source": [
    "dict1.get(\"fruit\")"
   ]
  },
  {
   "cell_type": "markdown",
   "metadata": {},
   "source": [
    "### ii.Values"
   ]
  },
  {
   "cell_type": "markdown",
   "metadata": {},
   "source": [
    "Get the values from \"dict1\""
   ]
  },
  {
   "cell_type": "code",
   "execution_count": 213,
   "metadata": {},
   "outputs": [
    {
     "data": {
      "text/plain": [
       "dict_values(['orange, watermelon, grape', 'onion, mushroom, lettuce'])"
      ]
     },
     "execution_count": 213,
     "metadata": {},
     "output_type": "execute_result"
    }
   ],
   "source": [
    "dict1.values()"
   ]
  },
  {
   "cell_type": "markdown",
   "metadata": {},
   "source": [
    "### Indexing With Values?\n",
    "A little more complicated"
   ]
  },
  {
   "cell_type": "code",
   "execution_count": 214,
   "metadata": {},
   "outputs": [
    {
     "name": "stdout",
     "output_type": "stream",
     "text": [
      "fruit\n"
     ]
    }
   ],
   "source": [
    "V = 'orange, watermelon, grape'\n",
    "\n",
    "for key, value in dict1.items():\n",
    "    if value == V:\n",
    "        K = key\n",
    "print(K)"
   ]
  },
  {
   "cell_type": "markdown",
   "metadata": {},
   "source": [
    "### iii. Length of Dictionary\n",
    "\n",
    "Returns the number of stored entries, i.e. the number of (key,value) pairs."
   ]
  },
  {
   "cell_type": "code",
   "execution_count": 215,
   "metadata": {},
   "outputs": [
    {
     "data": {
      "text/plain": [
       "2"
      ]
     },
     "execution_count": 215,
     "metadata": {},
     "output_type": "execute_result"
    }
   ],
   "source": [
    "len(dict1)"
   ]
  },
  {
   "cell_type": "markdown",
   "metadata": {},
   "source": [
    "### iv. Remove key and value"
   ]
  },
  {
   "cell_type": "code",
   "execution_count": 6,
   "metadata": {},
   "outputs": [
    {
     "data": {
      "text/plain": [
       "{'fruit': 'orange, watermelon, grape', 'new': 0}"
      ]
     },
     "execution_count": 6,
     "metadata": {},
     "output_type": "execute_result"
    }
   ],
   "source": [
    "del dict1[\"vegetable\"]\n",
    "dict1"
   ]
  },
  {
   "cell_type": "markdown",
   "metadata": {},
   "source": [
    "### v. Add new value"
   ]
  },
  {
   "cell_type": "code",
   "execution_count": 8,
   "metadata": {},
   "outputs": [
    {
     "data": {
      "text/plain": [
       "{'fruit': 'orange, watermelon, grape', 'new': 0}"
      ]
     },
     "execution_count": 8,
     "metadata": {},
     "output_type": "execute_result"
    }
   ],
   "source": [
    "dict1[\"new\"] = 0\n",
    "dict1"
   ]
  },
  {
   "cell_type": "markdown",
   "metadata": {},
   "source": [
    "### vi. Concatenating Dictionaries\n",
    "<i>*Note: Keys must be unique</i>"
   ]
  },
  {
   "cell_type": "code",
   "execution_count": 19,
   "metadata": {},
   "outputs": [
    {
     "data": {
      "text/plain": [
       "{'fruit': [5, 6, 7], 'vegetable': 'onion, mushroom, lettuce'}"
      ]
     },
     "execution_count": 19,
     "metadata": {},
     "output_type": "execute_result"
    }
   ],
   "source": [
    "dict1 = {\"fruit\" : \"orange, watermelon, grape\", \"vegetable\":\"onion, mushroom, lettuce\"}\n",
    "dict2 = {\"fruit\": [5,6,7]}\n",
    "dict1\n",
    "dict1.update(dict2)\n",
    "dict1\n",
    "dict1\n",
    "dict3 = {\"vegetable\": [15,16,17]}\n",
    "dict1.update(dict3)\n",
    "dict1\n"
   ]
  },
  {
   "cell_type": "markdown",
   "metadata": {},
   "source": [
    "### <font color = \"coral\">Exercise 1: Create a new dictionary</font>\n",
    "<font color = \"coral\">Your keys should be \"Country\",\"State\",\"City\",\"ZipCode\"\n",
    "\n",
    "Fill in the values according to the keys."
   ]
  },
  {
   "cell_type": "code",
   "execution_count": 219,
   "metadata": {},
   "outputs": [],
   "source": [
    "#Your code here\n",
    "dict1 = {\"Country\",\"State\",\"City\",\"ZipCode\": 'USA','California', 'Cupertino', '94041'}\n",
    "print(len(address_book))"
   ]
  },
  {
   "cell_type": "markdown",
   "metadata": {},
   "source": [
    "## Multi-dimensional Array"
   ]
  },
  {
   "cell_type": "code",
   "execution_count": 21,
   "metadata": {},
   "outputs": [],
   "source": [
    "a = [[0,  1, 2, 3, 4, 5],\n",
    "     [10,11,12,13,14,15],\n",
    "     [20,21,22,23,24,25],\n",
    "     [30,31,32,33,34,35],\n",
    "     [40,41,42,43,44,45],\n",
    "     [50,51,52,53,54,55]]"
   ]
  },
  {
   "cell_type": "code",
   "execution_count": 23,
   "metadata": {},
   "outputs": [
    {
     "data": {
      "text/plain": [
       "[0, 1, 2, 3, 4, 5]"
      ]
     },
     "execution_count": 23,
     "metadata": {},
     "output_type": "execute_result"
    }
   ],
   "source": [
    "a[0]"
   ]
  },
  {
   "cell_type": "code",
   "execution_count": 222,
   "metadata": {},
   "outputs": [
    {
     "data": {
      "text/plain": [
       "[[40, 41, 42, 43, 44, 45], [50, 51, 52, 53, 54, 55]]"
      ]
     },
     "execution_count": 222,
     "metadata": {},
     "output_type": "execute_result"
    }
   ],
   "source": [
    "a[4:6] #Starting from 4 to 6"
   ]
  },
  {
   "cell_type": "code",
   "execution_count": 223,
   "metadata": {},
   "outputs": [
    {
     "data": {
      "text/plain": [
       "55"
      ]
     },
     "execution_count": 223,
     "metadata": {},
     "output_type": "execute_result"
    }
   ],
   "source": [
    "a[5][5] #pointing to particular "
   ]
  },
  {
   "cell_type": "code",
   "execution_count": null,
   "metadata": {},
   "outputs": [],
   "source": []
  },
  {
   "cell_type": "markdown",
   "metadata": {},
   "source": [
    "### List Comprehensions"
   ]
  },
  {
   "cell_type": "code",
   "execution_count": 26,
   "metadata": {},
   "outputs": [
    {
     "data": {
      "text/plain": [
       "[0, 1, 4, 9, 16, 25, 36, 49, 64, 81, 100, 121, 144, 169, 196]"
      ]
     },
     "execution_count": 26,
     "metadata": {},
     "output_type": "execute_result"
    }
   ],
   "source": [
    "[x**2 for x in range(15)]"
   ]
  },
  {
   "cell_type": "markdown",
   "metadata": {},
   "source": [
    " SAME AS BELOW"
   ]
  },
  {
   "cell_type": "code",
   "execution_count": 25,
   "metadata": {},
   "outputs": [
    {
     "data": {
      "text/plain": [
       "[0, 1, 4, 9, 16, 25, 36, 49, 64, 81, 100, 121, 144, 169, 196]"
      ]
     },
     "execution_count": 25,
     "metadata": {},
     "output_type": "execute_result"
    }
   ],
   "source": [
    "original = list(range(15))\n",
    "\n",
    "squares = []\n",
    "\n",
    "for x in original:\n",
    "    squares.append(x**2)\n",
    "    \n",
    "squares"
   ]
  },
  {
   "cell_type": "markdown",
   "metadata": {},
   "source": [
    "#### What is happening in this loop?"
   ]
  },
  {
   "cell_type": "code",
   "execution_count": 226,
   "metadata": {},
   "outputs": [
    {
     "data": {
      "text/plain": [
       "[0, 1, 16, 81, 256, 625, 1296, 2401, 4096, 6561]"
      ]
     },
     "execution_count": 226,
     "metadata": {},
     "output_type": "execute_result"
    }
   ],
   "source": [
    "new = []\n",
    "for x in squares:\n",
    "    if x < 100:\n",
    "        new.append(x**2)\n",
    "new"
   ]
  },
  {
   "cell_type": "code",
   "execution_count": 227,
   "metadata": {},
   "outputs": [
    {
     "data": {
      "text/plain": [
       "[0, 1, 16, 81, 256, 625, 1296, 2401, 4096, 6561]"
      ]
     },
     "execution_count": 227,
     "metadata": {},
     "output_type": "execute_result"
    }
   ],
   "source": [
    "new = [i**2 for i in squares if i < 100]\n",
    "new "
   ]
  },
  {
   "cell_type": "markdown",
   "metadata": {},
   "source": [
    "### <font color = \"coral\">Exercise 2:\n",
    "<font color = \"coral\">\n",
    "Turn this for loop into a nested for list comprehension (Should only be one line)."
   ]
  },
  {
   "cell_type": "code",
   "execution_count": 228,
   "metadata": {},
   "outputs": [
    {
     "name": "stdout",
     "output_type": "stream",
     "text": [
      "[0, 5, 10, 15, 20, 25, 30, 35, 40, 45, 50, 55, 60, 65, 70, 75, 80, 85, 90, 95, 100, 105, 110, 115, 120, 125, 130, 135, 140, 145, 150, 155, 160, 165, 170, 175, 180, 185, 190, 195, 200, 205, 210, 215, 220, 225, 230, 235, 240, 245, 250, 255, 260, 265, 270, 275, 280, 285, 290, 295, 300, 305, 310, 315, 320, 325, 330, 335, 340, 345, 350, 355, 360, 365, 370, 375, 380, 385, 390, 395, 400, 405, 410, 415, 420, 425, 430, 435, 440, 445, 450, 455, 460, 465, 470, 475, 480, 485, 490, 495, 500, 505, 510, 515, 520, 525, 530, 535, 540, 545, 550, 555, 560, 565, 570, 575, 580, 585, 590, 595, 600, 605, 610, 615, 620, 625, 630, 635, 640, 645, 650, 655, 660, 665, 670, 675, 680, 685, 690, 695, 700, 705, 710, 715, 720, 725, 730, 735, 740, 745, 750, 755, 760, 765, 770, 775, 780, 785, 790, 795, 800, 805, 810, 815, 820, 825, 830, 835, 840, 845, 850, 855, 860, 865, 870, 875, 880, 885, 890, 895, 900, 905, 910, 915, 920, 925, 930, 935, 940, 945, 950, 955, 960, 965, 970, 975, 980, 985, 990, 995]\n"
     ]
    }
   ],
   "source": [
    "mystery_nested = [i for i in range(1000) if i%5 == 0]\n",
    "mystery = []\n",
    "for i in range(1000):\n",
    "    if i%5 == 0:\n",
    "        mystery.append(i)\n",
    "print(mystery)"
   ]
  },
  {
   "cell_type": "code",
   "execution_count": 35,
   "metadata": {},
   "outputs": [
    {
     "name": "stdout",
     "output_type": "stream",
     "text": [
      "[0, 5, 10, 15, 20, 25, 30, 35, 40, 45, 50, 55, 60, 65, 70, 75, 80, 85, 90, 95, 100, 105, 110, 115, 120, 125, 130, 135, 140, 145, 150, 155, 160, 165, 170, 175, 180, 185, 190, 195, 200, 205, 210, 215, 220, 225, 230, 235, 240, 245, 250, 255, 260, 265, 270, 275, 280, 285, 290, 295, 300, 305, 310, 315, 320, 325, 330, 335, 340, 345, 350, 355, 360, 365, 370, 375, 380, 385, 390, 395, 400, 405, 410, 415, 420, 425, 430, 435, 440, 445, 450, 455, 460, 465, 470, 475, 480, 485, 490, 495, 500, 505, 510, 515, 520, 525, 530, 535, 540, 545, 550, 555, 560, 565, 570, 575, 580, 585, 590, 595, 600, 605, 610, 615, 620, 625, 630, 635, 640, 645, 650, 655, 660, 665, 670, 675, 680, 685, 690, 695, 700, 705, 710, 715, 720, 725, 730, 735, 740, 745, 750, 755, 760, 765, 770, 775, 780, 785, 790, 795, 800, 805, 810, 815, 820, 825, 830, 835, 840, 845, 850, 855, 860, 865, 870, 875, 880, 885, 890, 895, 900, 905, 910, 915, 920, 925, 930, 935, 940, 945, 950, 955, 960, 965, 970, 975, 980, 985, 990, 995]\n"
     ]
    }
   ],
   "source": [
    "#Your code here\n",
    "mystery_nested = [i for i in range(1000) if i%5 == 0]\n",
    "print(mystery_nested)"
   ]
  },
  {
   "cell_type": "markdown",
   "metadata": {},
   "source": [
    " <h1> <b><font color = coral>&#9998; <font color = coral>EXERCISE 3:</h1></font>"
   ]
  },
  {
   "cell_type": "markdown",
   "metadata": {},
   "source": [
    "<font color = \"coral\">\n",
    "Not that you have all this knowledge on different operators, data types, and loops create a loop that removes all the unwanted information from our list.\n",
    "\n",
    "<b>1) Create a loop where you get rid of all the odd numbers.\n",
    "<br><br>\n",
    "2) Put all the numbers in order from smallest to largest.<br><br>\n",
    "3) Once you only have a list of ordered even numbers convert all these integers into strings.<br><br>\n",
    "4) Now print your number strings as a single string with comma separation.</b>\n",
    "\n"
   ]
  },
  {
   "cell_type": "code",
   "execution_count": 16,
   "metadata": {},
   "outputs": [
    {
     "name": "stdout",
     "output_type": "stream",
     "text": [
      "Done, we've just got rid of all the odd numbershere is the result:\n",
      " [4, 6, 2, 6, 8, 4, 6, 8, 454, 876, 54, 76, 34, 234234, 23432, 4, 1212, 76, 5432, 123212245346342, 2]\n",
      "Here is the sorted list:\n",
      " [2, 2, 4, 4, 4, 6, 6, 6, 8, 8, 34, 54, 76, 76, 454, 876, 1212, 5432, 23432, 234234, 123212245346342]\n",
      "Here is the sorted list:\n",
      " ['2', '2', '4', '4', '4', '6', '6', '6', '8', '8', '34', '54', '76', '76', '454', '876', '1212', '5432', '23432', '234234', '123212245346342']\n",
      "['2', '2', '4', '4', '4', '6', '6', '6', '8', '8', '34', '54', '76', '76', '454', '876', '1212', '5432', '23432', '234234', '123212245346342']\n"
     ]
    }
   ],
   "source": [
    "lst = [4,6,3,2,6,8,9,7,23,4,465,7,6,8,454,5,876,567,54,76,34,55,\n",
    "       33,7653,234234,7857,23432,4353,4,345,4667,23235,1212,221,\n",
    "       335,2323,21,45,76,5432,54645645,123212245346342,67,34563,2]\n",
    "\n",
    "#Your code here\n",
    "\n",
    "#a loop that removes all the unwanted information from our list.\n",
    "\n",
    "#1) Create a loop where you get rid of all the odd numbers.\n",
    "lst_even = []\n",
    "i=0\n",
    "for i in range(len(lst)):\n",
    "    if lst[i] % 2 == 0:# Even \n",
    "        lst_even.append(lst[i])\n",
    "        #print('this is an I:', i, 'and ', lst[i],'is added', 'here is the whole new lst:', lst_even)\n",
    "    else:\n",
    "        continue # Odd\n",
    "#lst_even = [lst_even.append(lst[i]) for i in range(len(lst)) if lst[i] % 2 == 0]\n",
    "print ('Done, we\\'ve just got rid of all the odd numbershere is the result:\\n', lst_even)\n",
    "\n",
    "#2) Put all the numbers in order from smallest to largest.\n",
    "lst_sorted = sorted(lst_even)\n",
    "print('Here is the sorted list:\\n', lst_sorted) \n",
    "\n",
    "#3) Once you only have a list of ordered even numbers convert all these integers into strings.\n",
    "lst_string = [str(lst_sorted[i]) for i in range(len(lst_sorted))]\n",
    " \n",
    "\n",
    "#4) Now print your number strings as a single string with comma separation.\n",
    "print('Here is the sorted list:\\n', lst_string)\n",
    "\n",
    "#convert a list of string\n",
    "\n",
    "#join"
   ]
  },
  {
   "cell_type": "markdown",
   "metadata": {},
   "source": [
    " <h1> <b><font color = coral>&#9998; <font color = coral>EXERCISE 4:</h1></font>"
   ]
  },
  {
   "cell_type": "markdown",
   "metadata": {},
   "source": [
    "<font color = \"coral\">If we list all the natural numbers below 10 that are multiples of 3 or 5, we get 3, 5, 6 and 9. The sum of these multiples is 23.\n",
    "\n",
    "Find the sum of all the multiples of 3 or 5 below 10,000."
   ]
  },
  {
   "cell_type": "code",
   "execution_count": 47,
   "metadata": {},
   "outputs": [
    {
     "name": "stdout",
     "output_type": "stream",
     "text": [
      "Empty list []\n",
      "\n",
      "Here are all the natural numbers below 10 that are multiples of 3 or 5 : \n",
      " [3, 5, 6, 9]\n",
      "\n",
      "Sum of the all the natural numbers below 10 that are multiples of 3 or 5 : \n",
      " 23\n",
      "\n",
      "Here are all the natural numbers below 1000 that are multiples of 3 or 5 : \n",
      " [3, 5, 6, 9, 10, 12, 15, 18, 20, 21, 24, 25, 27, 30, 33, 35, 36, 39, 40, 42, 45, 48, 50, 51, 54, 55, 57, 60, 63, 65, 66, 69, 70, 72, 75, 78, 80, 81, 84, 85, 87, 90, 93, 95, 96, 99, 100, 102, 105, 108, 110, 111, 114, 115, 117, 120, 123, 125, 126, 129, 130, 132, 135, 138, 140, 141, 144, 145, 147, 150, 153, 155, 156, 159, 160, 162, 165, 168, 170, 171, 174, 175, 177, 180, 183, 185, 186, 189, 190, 192, 195, 198, 200, 201, 204, 205, 207, 210, 213, 215, 216, 219, 220, 222, 225, 228, 230, 231, 234, 235, 237, 240, 243, 245, 246, 249, 250, 252, 255, 258, 260, 261, 264, 265, 267, 270, 273, 275, 276, 279, 280, 282, 285, 288, 290, 291, 294, 295, 297, 300, 303, 305, 306, 309, 310, 312, 315, 318, 320, 321, 324, 325, 327, 330, 333, 335, 336, 339, 340, 342, 345, 348, 350, 351, 354, 355, 357, 360, 363, 365, 366, 369, 370, 372, 375, 378, 380, 381, 384, 385, 387, 390, 393, 395, 396, 399, 400, 402, 405, 408, 410, 411, 414, 415, 417, 420, 423, 425, 426, 429, 430, 432, 435, 438, 440, 441, 444, 445, 447, 450, 453, 455, 456, 459, 460, 462, 465, 468, 470, 471, 474, 475, 477, 480, 483, 485, 486, 489, 490, 492, 495, 498, 500, 501, 504, 505, 507, 510, 513, 515, 516, 519, 520, 522, 525, 528, 530, 531, 534, 535, 537, 540, 543, 545, 546, 549, 550, 552, 555, 558, 560, 561, 564, 565, 567, 570, 573, 575, 576, 579, 580, 582, 585, 588, 590, 591, 594, 595, 597, 600, 603, 605, 606, 609, 610, 612, 615, 618, 620, 621, 624, 625, 627, 630, 633, 635, 636, 639, 640, 642, 645, 648, 650, 651, 654, 655, 657, 660, 663, 665, 666, 669, 670, 672, 675, 678, 680, 681, 684, 685, 687, 690, 693, 695, 696, 699, 700, 702, 705, 708, 710, 711, 714, 715, 717, 720, 723, 725, 726, 729, 730, 732, 735, 738, 740, 741, 744, 745, 747, 750, 753, 755, 756, 759, 760, 762, 765, 768, 770, 771, 774, 775, 777, 780, 783, 785, 786, 789, 790, 792, 795, 798, 800, 801, 804, 805, 807, 810, 813, 815, 816, 819, 820, 822, 825, 828, 830, 831, 834, 835, 837, 840, 843, 845, 846, 849, 850, 852, 855, 858, 860, 861, 864, 865, 867, 870, 873, 875, 876, 879, 880, 882, 885, 888, 890, 891, 894, 895, 897, 900, 903, 905, 906, 909, 910, 912, 915, 918, 920, 921, 924, 925, 927, 930, 933, 935, 936, 939, 940, 942, 945, 948, 950, 951, 954, 955, 957, 960, 963, 965, 966, 969, 970, 972, 975, 978, 980, 981, 984, 985, 987, 990, 993, 995, 996, 999]\n",
      "\n",
      "Sum of the all the natural numbers below 1000 that are multiples of 3 or 5 : \n",
      " 233168\n"
     ]
    }
   ],
   "source": [
    "#Your answer here\n",
    "#lst_3_5_to_10=[]\n",
    "lst_3_5_to_10_2=[]\n",
    "lst_3_5_to_1000=[]\n",
    "print ('Empty list', lst_3_5_to_10_2)\n",
    "#for i in range(10):\n",
    "#    if (i % 3 == 0 or i % 5 == 0) and i!=0:# multiples of 3 or 5 \n",
    "#        lst_3_5_to_10.append(i)\n",
    "#        print( i, 'is added', 'here is the whole new lst:', lst_3_5_to_10)\n",
    "#    else:\n",
    "#        continue # Odd\n",
    "lst_3_5_to_10_2 = [ i for i in range(10) if ((i % 3 == 0 or i % 5 == 0) and i!=0)] \n",
    "print('\\nHere are all the natural numbers below 10 that are multiples of 3 or 5 : \\n',lst_3_5_to_10_2)\n",
    "print('\\nSum of the all the natural numbers below 10 that are multiples of 3 or 5 : \\n',sum(lst_3_5_to_10_2))\n",
    "\n",
    "lst_3_5_to_1000 = [ i for i in range(1000) if ((i % 3 == 0 or i % 5 == 0) and i!=0)] \n",
    "print('\\nHere are all the natural numbers below 1000 that are multiples of 3 or 5 : \\n',lst_3_5_to_1000)    \n",
    "print('\\nSum of the all the natural numbers below 1000 that are multiples of 3 or 5 : \\n',sum(lst_3_5_to_1000))        "
   ]
  },
  {
   "cell_type": "markdown",
   "metadata": {},
   "source": [
    " <h1> <b><font color = coral>&#9998; <font color = coral>EXERCISE 5:</h1></font>"
   ]
  },
  {
   "cell_type": "markdown",
   "metadata": {},
   "source": [
    "<font color = \"coral\">\n",
    "Calculate all square numbers (1,4,9,16,...) below 1,000. What's their sum?"
   ]
  },
  {
   "cell_type": "code",
   "execution_count": 51,
   "metadata": {},
   "outputs": [
    {
     "name": "stdout",
     "output_type": "stream",
     "text": [
      "All square numbers (1,4,9,16,...) below 1,000 : \n",
      " -------------\n",
      " [0, 1, 4, 9, 16, 25, 36, 49, 64, 81, 100, 121, 144, 169, 196, 225, 256, 289, 324, 361, 400, 441, 484, 529, 576, 625, 676, 729, 784, 841, 900, 961, 1024, 1089, 1156, 1225, 1296, 1369, 1444, 1521, 1600, 1681, 1764, 1849, 1936, 2025, 2116, 2209, 2304, 2401, 2500, 2601, 2704, 2809, 2916, 3025, 3136, 3249, 3364, 3481, 3600, 3721, 3844, 3969, 4096, 4225, 4356, 4489, 4624, 4761, 4900, 5041, 5184, 5329, 5476, 5625, 5776, 5929, 6084, 6241, 6400, 6561, 6724, 6889, 7056, 7225, 7396, 7569, 7744, 7921, 8100, 8281, 8464, 8649, 8836, 9025, 9216, 9409, 9604, 9801, 10000, 10201, 10404, 10609, 10816, 11025, 11236, 11449, 11664, 11881, 12100, 12321, 12544, 12769, 12996, 13225, 13456, 13689, 13924, 14161, 14400, 14641, 14884, 15129, 15376, 15625, 15876, 16129, 16384, 16641, 16900, 17161, 17424, 17689, 17956, 18225, 18496, 18769, 19044, 19321, 19600, 19881, 20164, 20449, 20736, 21025, 21316, 21609, 21904, 22201, 22500, 22801, 23104, 23409, 23716, 24025, 24336, 24649, 24964, 25281, 25600, 25921, 26244, 26569, 26896, 27225, 27556, 27889, 28224, 28561, 28900, 29241, 29584, 29929, 30276, 30625, 30976, 31329, 31684, 32041, 32400, 32761, 33124, 33489, 33856, 34225, 34596, 34969, 35344, 35721, 36100, 36481, 36864, 37249, 37636, 38025, 38416, 38809, 39204, 39601, 40000, 40401, 40804, 41209, 41616, 42025, 42436, 42849, 43264, 43681, 44100, 44521, 44944, 45369, 45796, 46225, 46656, 47089, 47524, 47961, 48400, 48841, 49284, 49729, 50176, 50625, 51076, 51529, 51984, 52441, 52900, 53361, 53824, 54289, 54756, 55225, 55696, 56169, 56644, 57121, 57600, 58081, 58564, 59049, 59536, 60025, 60516, 61009, 61504, 62001, 62500, 63001, 63504, 64009, 64516, 65025, 65536, 66049, 66564, 67081, 67600, 68121, 68644, 69169, 69696, 70225, 70756, 71289, 71824, 72361, 72900, 73441, 73984, 74529, 75076, 75625, 76176, 76729, 77284, 77841, 78400, 78961, 79524, 80089, 80656, 81225, 81796, 82369, 82944, 83521, 84100, 84681, 85264, 85849, 86436, 87025, 87616, 88209, 88804, 89401, 90000, 90601, 91204, 91809, 92416, 93025, 93636, 94249, 94864, 95481, 96100, 96721, 97344, 97969, 98596, 99225, 99856, 100489, 101124, 101761, 102400, 103041, 103684, 104329, 104976, 105625, 106276, 106929, 107584, 108241, 108900, 109561, 110224, 110889, 111556, 112225, 112896, 113569, 114244, 114921, 115600, 116281, 116964, 117649, 118336, 119025, 119716, 120409, 121104, 121801, 122500, 123201, 123904, 124609, 125316, 126025, 126736, 127449, 128164, 128881, 129600, 130321, 131044, 131769, 132496, 133225, 133956, 134689, 135424, 136161, 136900, 137641, 138384, 139129, 139876, 140625, 141376, 142129, 142884, 143641, 144400, 145161, 145924, 146689, 147456, 148225, 148996, 149769, 150544, 151321, 152100, 152881, 153664, 154449, 155236, 156025, 156816, 157609, 158404, 159201, 160000, 160801, 161604, 162409, 163216, 164025, 164836, 165649, 166464, 167281, 168100, 168921, 169744, 170569, 171396, 172225, 173056, 173889, 174724, 175561, 176400, 177241, 178084, 178929, 179776, 180625, 181476, 182329, 183184, 184041, 184900, 185761, 186624, 187489, 188356, 189225, 190096, 190969, 191844, 192721, 193600, 194481, 195364, 196249, 197136, 198025, 198916, 199809, 200704, 201601, 202500, 203401, 204304, 205209, 206116, 207025, 207936, 208849, 209764, 210681, 211600, 212521, 213444, 214369, 215296, 216225, 217156, 218089, 219024, 219961, 220900, 221841, 222784, 223729, 224676, 225625, 226576, 227529, 228484, 229441, 230400, 231361, 232324, 233289, 234256, 235225, 236196, 237169, 238144, 239121, 240100, 241081, 242064, 243049, 244036, 245025, 246016, 247009, 248004, 249001, 250000, 251001, 252004, 253009, 254016, 255025, 256036, 257049, 258064, 259081, 260100, 261121, 262144, 263169, 264196, 265225, 266256, 267289, 268324, 269361, 270400, 271441, 272484, 273529, 274576, 275625, 276676, 277729, 278784, 279841, 280900, 281961, 283024, 284089, 285156, 286225, 287296, 288369, 289444, 290521, 291600, 292681, 293764, 294849, 295936, 297025, 298116, 299209, 300304, 301401, 302500, 303601, 304704, 305809, 306916, 308025, 309136, 310249, 311364, 312481, 313600, 314721, 315844, 316969, 318096, 319225, 320356, 321489, 322624, 323761, 324900, 326041, 327184, 328329, 329476, 330625, 331776, 332929, 334084, 335241, 336400, 337561, 338724, 339889, 341056, 342225, 343396, 344569, 345744, 346921, 348100, 349281, 350464, 351649, 352836, 354025, 355216, 356409, 357604, 358801, 360000, 361201, 362404, 363609, 364816, 366025, 367236, 368449, 369664, 370881, 372100, 373321, 374544, 375769, 376996, 378225, 379456, 380689, 381924, 383161, 384400, 385641, 386884, 388129, 389376, 390625, 391876, 393129, 394384, 395641, 396900, 398161, 399424, 400689, 401956, 403225, 404496, 405769, 407044, 408321, 409600, 410881, 412164, 413449, 414736, 416025, 417316, 418609, 419904, 421201, 422500, 423801, 425104, 426409, 427716, 429025, 430336, 431649, 432964, 434281, 435600, 436921, 438244, 439569, 440896, 442225, 443556, 444889, 446224, 447561, 448900, 450241, 451584, 452929, 454276, 455625, 456976, 458329, 459684, 461041, 462400, 463761, 465124, 466489, 467856, 469225, 470596, 471969, 473344, 474721, 476100, 477481, 478864, 480249, 481636, 483025, 484416, 485809, 487204, 488601, 490000, 491401, 492804, 494209, 495616, 497025, 498436, 499849, 501264, 502681, 504100, 505521, 506944, 508369, 509796, 511225, 512656, 514089, 515524, 516961, 518400, 519841, 521284, 522729, 524176, 525625, 527076, 528529, 529984, 531441, 532900, 534361, 535824, 537289, 538756, 540225, 541696, 543169, 544644, 546121, 547600, 549081, 550564, 552049, 553536, 555025, 556516, 558009, 559504, 561001, 562500, 564001, 565504, 567009, 568516, 570025, 571536, 573049, 574564, 576081, 577600, 579121, 580644, 582169, 583696, 585225, 586756, 588289, 589824, 591361, 592900, 594441, 595984, 597529, 599076, 600625, 602176, 603729, 605284, 606841, 608400, 609961, 611524, 613089, 614656, 616225, 617796, 619369, 620944, 622521, 624100, 625681, 627264, 628849, 630436, 632025, 633616, 635209, 636804, 638401, 640000, 641601, 643204, 644809, 646416, 648025, 649636, 651249, 652864, 654481, 656100, 657721, 659344, 660969, 662596, 664225, 665856, 667489, 669124, 670761, 672400, 674041, 675684, 677329, 678976, 680625, 682276, 683929, 685584, 687241, 688900, 690561, 692224, 693889, 695556, 697225, 698896, 700569, 702244, 703921, 705600, 707281, 708964, 710649, 712336, 714025, 715716, 717409, 719104, 720801, 722500, 724201, 725904, 727609, 729316, 731025, 732736, 734449, 736164, 737881, 739600, 741321, 743044, 744769, 746496, 748225, 749956, 751689, 753424, 755161, 756900, 758641, 760384, 762129, 763876, 765625, 767376, 769129, 770884, 772641, 774400, 776161, 777924, 779689, 781456, 783225, 784996, 786769, 788544, 790321, 792100, 793881, 795664, 797449, 799236, 801025, 802816, 804609, 806404, 808201, 810000, 811801, 813604, 815409, 817216, 819025, 820836, 822649, 824464, 826281, 828100, 829921, 831744, 833569, 835396, 837225, 839056, 840889, 842724, 844561, 846400, 848241, 850084, 851929, 853776, 855625, 857476, 859329, 861184, 863041, 864900, 866761, 868624, 870489, 872356, 874225, 876096, 877969, 879844, 881721, 883600, 885481, 887364, 889249, 891136, 893025, 894916, 896809, 898704, 900601, 902500, 904401, 906304, 908209, 910116, 912025, 913936, 915849, 917764, 919681, 921600, 923521, 925444, 927369, 929296, 931225, 933156, 935089, 937024, 938961, 940900, 942841, 944784, 946729, 948676, 950625, 952576, 954529, 956484, 958441, 960400, 962361, 964324, 966289, 968256, 970225, 972196, 974169, 976144, 978121, 980100, 982081, 984064, 986049, 988036, 990025, 992016, 994009, 996004, 998001]\n",
      "Sum of all square numbers (1,4,9,16,...) below 1,000 :  332833500\n"
     ]
    }
   ],
   "source": [
    "#Your answer here\n",
    "\n",
    "sqr_nmbrs_b1000 = [i**2 for i in range(1000)]\n",
    "\n",
    "print('All square numbers (1,4,9,16,...) below 1,000 : \\n -------------\\n', sqr_nmbrs_b1000)\n",
    "\n",
    "print('Sum of all square numbers (1,4,9,16,...) below 1,000 : ', sum(sqr_nmbrs_b1000))\n",
    "\n"
   ]
  },
  {
   "cell_type": "markdown",
   "metadata": {},
   "source": [
    " <h1> <b><font color = coral>&#9998; <font color = coral>EXERCISE 6:</h1></font>"
   ]
  },
  {
   "cell_type": "markdown",
   "metadata": {},
   "source": [
    "<font color = \"coral\">\n",
    "Write a function to calculate the mean (average) of \"lst\". Do not use the built-in \"mean\" functions that Python offers."
   ]
  },
  {
   "cell_type": "code",
   "execution_count": 272,
   "metadata": {},
   "outputs": [
    {
     "name": "stdout",
     "output_type": "stream",
     "text": [
      "Average :  121.77272727272727\n"
     ]
    }
   ],
   "source": [
    "#+\n",
    "lst = [4,6,3,2,6,8,9,7,23,4,465,7,6,8,454,5,876,567,54,76,34,55]\n",
    "\n",
    "#Your answer here\n",
    "\n",
    "i=0\n",
    "sum2=0\n",
    "for i in lst:\n",
    "    sum2 = sum2 + i\n",
    "    #print(i, sum)\n",
    "sum2 = sum2/len(lst)\n",
    "\n",
    "print('Average : ', sum2)\n"
   ]
  },
  {
   "cell_type": "markdown",
   "metadata": {},
   "source": [
    " <h1> <b><font color = coral>&#9998; <font color = coral>EXERCISE 7:</h1></font>"
   ]
  },
  {
   "cell_type": "markdown",
   "metadata": {},
   "source": [
    "<font color = \"coral\">\n",
    "Write a function to calculate the median of \"lst\". Do not use the built-in \"median\" functions that Python offers."
   ]
  },
  {
   "cell_type": "code",
   "execution_count": 228,
   "metadata": {},
   "outputs": [
    {
     "name": "stdout",
     "output_type": "stream",
     "text": [
      "[1, 2, 2, 3, 4, 4, 4, 5, 6, 6, 6, 7, 7, 8, 8, 9, 21, 23, 33, 34, 45, 54, 55, 67, 76, 76, 221, 335, 345, 454, 465, 567, 876, 1212, 2323, 4353, 4667, 5432, 7653, 7857, 23235, 23432, 34563, 234234, 54645645, 123212245346342]\n",
      "len:  46\n",
      "76\n"
     ]
    }
   ],
   "source": [
    "lst = [1, 4,6,3,2,6,8,9,7,23,4,465,7,6,8,454,5,876,567,54,76,34,55,\n",
    "       33,7653,234234,7857,23432,4353,4,345,4667,23235,1212,221,\n",
    "       335,2323,21,45,76,5432,54645645,123212245346342,67,34563,2]\n",
    " \n",
    "#Your answer here\n",
    "    ## Sort the list first\n",
    "sorted_lst = sorted(lst)\n",
    "print(sorted_lst)\n",
    "\n",
    "#def median(lst):\n",
    "n = len(sorted_lst)\n",
    "print('len: ', n)\n",
    "if n < 1:\n",
    "    pass\n",
    "if n % 2 == 1:\n",
    "    #print('len \\\"n\\\" =',n,', n%2 =',n % 2,', n//2 =',n//2)\n",
    "    print(sorted_lst[n//2])\n",
    "else:\n",
    "    print(sorted_lst[n//2+1])\n",
    "    #print ('else')\n",
    "#print(median(lst))\n",
    "\n"
   ]
  },
  {
   "cell_type": "markdown",
   "metadata": {},
   "source": [
    " <h1> <b><font color = coral>&#9998; <font color = coral>EXERCISE 8:</h1></font>"
   ]
  },
  {
   "cell_type": "markdown",
   "metadata": {},
   "source": [
    "<font color = \"coral\">Write a function to calculate the mode of \"lst\". Do not use the built-in \"mode\" functions that Python offers."
   ]
  },
  {
   "cell_type": "code",
   "execution_count": 274,
   "metadata": {},
   "outputs": [
    {
     "name": "stdout",
     "output_type": "stream",
     "text": [
      "{4: 3, 6: 3, 3: 1, 2: 2, 8: 2, 9: 1, 7: 2, 23: 1, 465: 1, 454: 1, 5: 1, 876: 1, 567: 1, 54: 1, 76: 2, 34: 1, 55: 1, 33: 1, 7653: 1, 234234: 1, 7857: 1, 23432: 1, 4353: 1, 345: 1, 4667: 1, 23235: 1, 1212: 1, 221: 1, 335: 1, 2323: 1, 21: 1, 45: 1, 5432: 1, 54645645: 1, 123212245346342: 1, 67: 1, 34563: 1}\n"
     ]
    }
   ],
   "source": [
    "lst = [4,6,3,2,6,8,9,7,23,4,465,7,6,8,454,5,876,567,54,76,34,55,\n",
    "       33,7653,234234,7857,23432,4353,4,345,4667,23235,1212,221,\n",
    "       335,2323,21,45,76,5432,54645645,123212245346342,67,34563,2]\n",
    " \n",
    "#Your answer here\n",
    "#higher occurance - how many times and wichever number appearce\n",
    "\n",
    "\n",
    "\n",
    "newdct = {} #this is a new dict with each uniqe number\n",
    "for i in range(len(lst)):\n",
    "    #print('i :',i)\n",
    "    if lst[i] not in newdct:\n",
    "        newdct[lst[i]]=1\n",
    "        #print ('number: ', lst[i],'lst\\\"number\\\": ', lst[i],'True: newdct[number]', newdct[lst[i]])\n",
    "    else:\n",
    "        newdct[lst[i]]=newdct[lst[i]]+1\n",
    "        #print ('else,','number: ', lst[i],'lst\\\"number\\\": ',lst[i], 'newdct[number]= ',newdct[lst[i]])\n",
    "        \n",
    "print(newdct)\n",
    "\n",
    " \n",
    "        \n",
    "#sort newlst based on frequency list\n",
    "\n"
   ]
  },
  {
   "cell_type": "markdown",
   "metadata": {},
   "source": [
    "# Reading CSV file -- bayarea_home_prices data"
   ]
  },
  {
   "cell_type": "code",
   "execution_count": 236,
   "metadata": {},
   "outputs": [
    {
     "data": {
      "text/plain": [
       "'\\nDataset description\\n1) HomeID = Home ID number\\n2) HomeAge = Age of home in years\\n3) HomeSqft = Square footage of home\\n4) LotSize = LotSize\\n5) BedRooms = Num bedrooms as per county data\\n6) HighSchoolAPI = API for nearest high school\\n7) ProxFwy = Distance in miles to Freeway\\n8) CarGarage = Number of cars in garage; 0 = no garage\\n9) ZipCode = Postal zip code for the home\\n10)HomePriceK = Home price in $K (Target)\\n-------------------------------------------\\n9 X Variables; 1 Y variable (Target)\\nData Points = 100\\n\\nData errors:\\n1) Few ZipCode have starting digit to be 8, it should be 9\\n2) Few HighSchoolApi scores have two digits, the ending digit 0 is missing\\n3) Few CarGarage numbers were entered as letter \"l\", it should be integer 1 \\n'"
      ]
     },
     "execution_count": 236,
     "metadata": {},
     "output_type": "execute_result"
    }
   ],
   "source": [
    "\"\"\"\n",
    "Dataset description\n",
    "1) HomeID = Home ID number\n",
    "2) HomeAge = Age of home in years\n",
    "3) HomeSqft = Square footage of home\n",
    "4) LotSize = LotSize\n",
    "5) BedRooms = Num bedrooms as per county data\n",
    "6) HighSchoolAPI = API for nearest high school\n",
    "7) ProxFwy = Distance in miles to Freeway\n",
    "8) CarGarage = Number of cars in garage; 0 = no garage\n",
    "9) ZipCode = Postal zip code for the home\n",
    "10)HomePriceK = Home price in $K (Target)\n",
    "-------------------------------------------\n",
    "9 X Variables; 1 Y variable (Target)\n",
    "Data Points = 100\n",
    "\n",
    "Data errors:\n",
    "1) Few ZipCode have starting digit to be 8, it should be 9\n",
    "2) Few HighSchoolApi scores have two digits, the ending digit 0 is missing\n",
    "3) Few CarGarage numbers were entered as letter \"l\", it should be integer 1 \n",
    "\"\"\""
   ]
  },
  {
   "cell_type": "code",
   "execution_count": 265,
   "metadata": {},
   "outputs": [],
   "source": [
    "## Reading csv files\n",
    "def read_file(filename):\n",
    "    file_open = open(filename,\"r\")\n",
    "    data_array = []\n",
    "    for line in iter(file_open):\n",
    "        if \"HomeID\" in line:\n",
    "            continue\n",
    "        line_no_newline = line.rstrip() # delete white space characters\n",
    "        line_split = line_no_newline.split(\",\")  #getting the list\n",
    "        data_array.append(line_split)\n",
    "    return data_array"
   ]
  },
  {
   "cell_type": "code",
   "execution_count": 268,
   "metadata": {},
   "outputs": [
    {
     "name": "stdout",
     "output_type": "stream",
     "text": [
      "[['1', '24', '1757', '6056', '2', '899', '3', '3', '94085', '894'], ['2', '10', '1563', '6085', '2', '959', '4', '3', '94085', '861'], ['3', '14', '1344', '6089', '2', '865', '4', '3', '94085', '831'], ['4', '14', '1215', '6129', '3', '959', '4', '2', '94085', '809'], ['5', '24', '1866', '6141', '3', '877', '4', '1', '94085', '890'], ['6', '18', '1589', '6148', '2', '920', '3', '0', '84085', '867']]\n"
     ]
    }
   ],
   "source": [
    "housing_data = read_file(\"bayarea_home_prices.csv\")\n",
    "print(housing_data[0:6])\n",
    "print()\n",
    "for i in len(housing_data)\n",
    "    print(housing_data[])"
   ]
  },
  {
   "cell_type": "code",
   "execution_count": 269,
   "metadata": {},
   "outputs": [
    {
     "name": "stdout",
     "output_type": "stream",
     "text": [
      "100\n"
     ]
    }
   ],
   "source": [
    "len_housing_data = len(housing_data):\n",
    "print(len_housing_data)"
   ]
  },
  {
   "cell_type": "code",
   "execution_count": 270,
   "metadata": {},
   "outputs": [],
   "source": [
    "list_HomeAge = []\n",
    "# for all rows, extract only column 1\n",
    "for k in range(0,len_housing_data)\n",
    "    list_HomeAge.append=housing_data[k,1]"
   ]
  },
  {
   "cell_type": "code",
   "execution_count": 241,
   "metadata": {},
   "outputs": [
    {
     "name": "stdout",
     "output_type": "stream",
     "text": [
      "['24', '10', '14', '14', '24', '18', '13', '19', '17', '24', '12', '22', '15', '25', '10', '20', '23', '16', '10', '13', '17', '10', '15', '10', '21', '12', '13', '10', '17', '24', '10', '18', '11', '19', '12', '14', '13', '22', '22', '15', '23', '21', '17', '11', '15', '11', '21', '22', '12', '19', '19', '25', '23', '12', '10', '11', '11', '19', '22', '19', '13', '19', '25', '12', '14', '25', '24', '12', '21', '16', '19', '24', '25', '17', '14', '12', '17', '25', '17', '11', '18', '19', '24', '25', '22', '19', '18', '22', '21', '14', '16', '18', '25', '21', '13', '11', '10', '21', '19', '11']\n"
     ]
    }
   ],
   "source": [
    "print(list_HomeAge) \n",
    "# they are still strings, cannot do numerical calculations with strings "
   ]
  },
  {
   "cell_type": "code",
   "execution_count": 242,
   "metadata": {},
   "outputs": [],
   "source": [
    "# How to convert zipcodes from text to numbers\n",
    "for k in range (0,len_housing_data)\n",
    "    housing_data[k][8] = int(housing_data[k][8])  # convert to integer data type and over-write    \n"
   ]
  },
  {
   "cell_type": "code",
   "execution_count": 243,
   "metadata": {},
   "outputs": [
    {
     "name": "stdout",
     "output_type": "stream",
     "text": [
      "[['1', '24', '1757', '6056', '2', '899', '3', '3', 94085, '894'], ['2', '10', '1563', '6085', '2', '959', '4', '3', 94085, '861'], ['3', '14', '1344', '6089', '2', '865', '4', '3', 94085, '831'], ['4', '14', '1215', '6129', '3', '959', '4', '2', 94085, '809'], ['5', '24', '1866', '6141', '3', '877', '4', '1', 94085, '890']]\n"
     ]
    }
   ],
   "source": [
    "print(housing_data[0:5]) # Zipcode is without quotes and not strings; they are now integers"
   ]
  },
  {
   "cell_type": "code",
   "execution_count": 244,
   "metadata": {},
   "outputs": [],
   "source": [
    "## Reading csv files, how to fix errors in data, replace 84085 with 94085\n",
    "def read_file_housing(filename):\n",
    "    file_open = open(filename,\"r\")\n",
    "    data_array = []\n",
    "    for line in iter(file_open):\n",
    "        if \"HomeID\" in line:\n",
    "            continue\n",
    "        line_no_newline = line.rstrip()\n",
    "        line2 = line_no_newline.replace(\"84085\",\"94085\")\n",
    "        line_split = line2.split(\",\")\n",
    "        data_array.append(line_split)\n",
    "    return data_array"
   ]
  },
  {
   "cell_type": "code",
   "execution_count": 245,
   "metadata": {},
   "outputs": [
    {
     "name": "stdout",
     "output_type": "stream",
     "text": [
      "[['1', '24', '1757', '6056', '2', '899', '3', '3', '94085', '894'], ['2', '10', '1563', '6085', '2', '959', '4', '3', '94085', '861'], ['3', '14', '1344', '6089', '2', '865', '4', '3', '94085', '831'], ['4', '14', '1215', '6129', '3', '959', '4', '2', '94085', '809'], ['5', '24', '1866', '6141', '3', '877', '4', '1', '94085', '890'], ['6', '18', '1589', '6148', '2', '920', '3', '0', '94085', '867']]\n"
     ]
    }
   ],
   "source": [
    "housing_data2 = read_file_housing(\"bayarea_home_prices.csv\")\n",
    "print(housing_data2[0:6])"
   ]
  },
  {
   "cell_type": "code",
   "execution_count": 246,
   "metadata": {},
   "outputs": [
    {
     "name": "stdout",
     "output_type": "stream",
     "text": [
      "100\n"
     ]
    }
   ],
   "source": [
    "len_housing_data2 = len(housing_data2)\n",
    "print(len_housing_data2)"
   ]
  },
  {
   "cell_type": "code",
   "execution_count": 247,
   "metadata": {},
   "outputs": [],
   "source": [
    "list_ZipCode2 = []\n",
    "# for all rows, extract all zipcodes\n",
    "for k in range(0,len_housing_data2):\n",
    "    list_ZipCode2.append(int(housing_data2[k][8]))  "
   ]
  },
  {
   "cell_type": "code",
   "execution_count": 248,
   "metadata": {},
   "outputs": [
    {
     "name": "stdout",
     "output_type": "stream",
     "text": [
      "[94085, 94085, 94085, 94085, 94085, 94085, 94085, 94085, 94085, 94085, 94085, 94085, 94085, 94085, 94085, 95051, 94085, 94085, 95051, 94085, 94085, 94085, 94085, 95051, 94085, 94085, 94085, 95051, 94085, 95051, 95051, 95051, 95051, 95051, 95051, 95051, 85051, 95051, 95051, 95051, 94087, 94087, 95051, 95051, 95051, 94087, 95051, 94087, 94087, 95051, 95051, 95051, 85051, 94087, 95051, 94087, 94087, 94087, 95051, 94087, 94087, 94087, 94087, 94087, 94087, 95014, 94087, 94087, 94087, 94087, 95014, 94087, 95014, 95014, 84087, 84087, 95014, 94087, 94087, 94087, 95014, 95014, 95014, 95014, 85014, 95014, 95014, 95014, 85014, 95014, 95014, 95014, 95014, 95014, 95014, 95014, 95014, 95014, 95014, 95014]\n"
     ]
    }
   ],
   "source": [
    "print(list_ZipCode2) # Converted to numbers"
   ]
  },
  {
   "cell_type": "markdown",
   "metadata": {},
   "source": [
    "<h1> <b><font color = coral>&#9998; <font color = coral>EXERCISE 9:</h1></font>"
   ]
  },
  {
   "cell_type": "code",
   "execution_count": 249,
   "metadata": {},
   "outputs": [
    {
     "data": {
      "text/plain": [
       "'\\nThe above example shows correcting 84085 -> 94085\\nPerform other zip code corrections: \\n84087 -> 94087,\\n85014 -> 95014,\\n85051 -> 95051\\nCreate a table for zip code distribution after corrections:\\nAfter:Zipcode,House_Count\\n94085,25\\n94087,25\\n95051,25\\n95014,25\\n'"
      ]
     },
     "execution_count": 249,
     "metadata": {},
     "output_type": "execute_result"
    }
   ],
   "source": [
    "\"\"\"\n",
    "The above example shows correcting 84085 -> 94085\n",
    "Perform other zip code corrections: \n",
    "84087 -> 94087,\n",
    "85014 -> 95014,\n",
    "85051 -> 95051\n",
    "Create a table for zip code distribution after corrections:\n",
    "After:Zipcode,House_Count\n",
    "94085,25\n",
    "94087,25\n",
    "95051,25\n",
    "95014,25\n",
    "\"\"\"\n",
    "#Your answer here\n",
    "\n",
    "def \n",
    "    file_open =open(filename, \"r\")\n",
    "    data_rray = []\n",
    "    line_count =0\n",
    "    for line in iter (file_open) #Attention ! New ITER Reading one line in the time\n",
    "    line_count +=1\n",
    "    if \"HomeID\" in line:\n",
    "        continue\n",
    "    line_no_new line = line.rstrip()\n",
    "    line1 =line_no_new line.replace(\"84085\",\"94085\") #Ex9\n",
    "    line2 = line1.replice(\"84087\",\"94087\") #Ex9\n",
    "    line3 = line2.replice(\"84014\",\"95014\") #Ex9 \n",
    "    line4 = line3.replice(\"84051\",\"94087\") #Ex9\n",
    "    line5 = line4.replice(\"l\",\"1\") #Ex11  -- Car Garage \n",
    "    line_split = line4.split(\",\")\n",
    "    if (int(line_split[5]) < 100): #Ex10 -- School API\n",
    "        line_split[5] = int(line_split[5])*10\n",
    "    else:\n",
    "        line_split[5] = int(line_split[5])\n",
    "    school_api = int(line_split[5])\n",
    "    car_garage = int(line_split[7])\n",
    "    zip_code = int(line_split[8])\n",
    "    home_price_k = int(line_split[9])  \n",
    "    concat = [school_api, car_garage, zip_code, home_price_k] #only keep\n",
    "    data_array.append(concat)\n",
    "    file_open.close()\n",
    "return data_array\n",
    "    "
   ]
  },
  {
   "cell_type": "markdown",
   "metadata": {},
   "source": [
    "<h1> <b><font color = coral>&#9998; <font color = coral>EXERCISE 10:</h1></font>"
   ]
  },
  {
   "cell_type": "code",
   "execution_count": 250,
   "metadata": {},
   "outputs": [
    {
     "data": {
      "text/plain": [
       "'\\nModify function read_file_housing to multiply incorrect SchoolAPI by 10.\\nAssume API value to be incorrect if it is a two digit number.\\nCalculate average School API by zipcode. Print the following:\\nAverage_SchoolAPI,Cnt_of_homes,ZipCode\\nxyz,mn,abc\\n'"
      ]
     },
     "execution_count": 250,
     "metadata": {},
     "output_type": "execute_result"
    }
   ],
   "source": [
    "\"\"\"\n",
    "Modify function read_file_housing to multiply incorrect SchoolAPI by 10.\n",
    "Assume API value to be incorrect if it is a two digit number.\n",
    "Calculate average School API by zipcode. Print the following:\n",
    "Average_SchoolAPI,Cnt_of_homes,ZipCode\n",
    "xyz,mn,abc\n",
    "\"\"\"\n",
    "#Your answer here"
   ]
  },
  {
   "cell_type": "markdown",
   "metadata": {},
   "source": [
    "<h1> <b><font color = coral>&#9998; <font color = coral>EXERCISE 11:</h1></font>"
   ]
  },
  {
   "cell_type": "code",
   "execution_count": null,
   "metadata": {},
   "outputs": [],
   "source": [
    "\"\"\"\n",
    "Modify function read_file_housing to replace CarGarage value of 'l' with integer 1\n",
    "Calculate and print the following:\n",
    "Car_Garage,Cnt_of_homes\n",
    "0,m\n",
    "1,n\n",
    "2,o\n",
    "3,p\n",
    "\"\"\""
   ]
  },
  {
   "cell_type": "markdown",
   "metadata": {},
   "source": [
    "<h1> <b><font color = coral>&#9998; <font color = coral>EXERCISE 12:</h1></font>"
   ]
  },
  {
   "cell_type": "code",
   "execution_count": 201,
   "metadata": {},
   "outputs": [
    {
     "data": {
      "text/plain": [
       "'\\nFind the average price of a home in this four zip codes area.\\nZipcode,Avg_Price,Cnt_of_homes\\n'"
      ]
     },
     "execution_count": 201,
     "metadata": {},
     "output_type": "execute_result"
    }
   ],
   "source": [
    "\"\"\"\n",
    "Find the average price of a home in this four zip codes area.\n",
    "Zipcode,Avg_Price,Cnt_of_homes\n",
    "\"\"\"\n",
    "Zip 1,vg_Price,Cnt_of_homes\n",
    "Zip 2,vg_Price,Cnt_of_homes\n",
    "Zip 3,vg_Price,Cnt_of_homes\n",
    "Zip 4,vg_Price,Cnt_of_homes"
   ]
  },
  {
   "cell_type": "markdown",
   "metadata": {},
   "source": [
    "<h1> <b><font color = coral>&#9998; <font color = coral>EXERCISE 13:</h1></font>"
   ]
  },
  {
   "cell_type": "code",
   "execution_count": null,
   "metadata": {},
   "outputs": [],
   "source": [
    "\"\"\"\n",
    "Find the average price of a home in Sunnyvale (94087 and 94085).\n",
    "Print the output as follows:\n",
    "The average house price in Sunnyvale based on xx homes is $yyy (thousands).\n",
    "\"\"\"\n",
    "print('The average house price in Sunnyvale based on xx homes is $yyy (thousands).)"
   ]
  }
 ],
 "metadata": {
  "kernelspec": {
   "display_name": "Python 3",
   "language": "python",
   "name": "python3"
  },
  "language_info": {
   "codemirror_mode": {
    "name": "ipython",
    "version": 3
   },
   "file_extension": ".py",
   "mimetype": "text/x-python",
   "name": "python",
   "nbconvert_exporter": "python",
   "pygments_lexer": "ipython3",
   "version": "3.6.5"
  }
 },
 "nbformat": 4,
 "nbformat_minor": 2
}
