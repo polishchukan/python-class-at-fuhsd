{
 "cells": [
  {
   "cell_type": "markdown",
   "metadata": {},
   "source": [
    "## Python for Data Science\n",
    "### FUHSD Adult School\n",
    "### Sanjay"
   ]
  },
  {
   "cell_type": "code",
   "execution_count": 1,
   "metadata": {},
   "outputs": [
    {
     "name": "stdout",
     "output_type": "stream",
     "text": [
      "Hello Sunday\n"
     ]
    }
   ],
   "source": [
    "print(\"Hello Sunday\")"
   ]
  },
  {
   "cell_type": "code",
   "execution_count": 2,
   "metadata": {},
   "outputs": [
    {
     "name": "stdout",
     "output_type": "stream",
     "text": [
      "Hello, Python!\n"
     ]
    }
   ],
   "source": [
    "print(\"Hello, Python!\")"
   ]
  },
  {
   "cell_type": "markdown",
   "metadata": {},
   "source": [
    "### --- Exercise 1\n",
    "### Print the following string \"Learning Python for Data Science\""
   ]
  },
  {
   "cell_type": "code",
   "execution_count": null,
   "metadata": {},
   "outputs": [],
   "source": [
    "# Exercise 1 - write code in this cell and click on Run\n",
    "\n"
   ]
  },
  {
   "cell_type": "code",
   "execution_count": 8,
   "metadata": {},
   "outputs": [
    {
     "name": "stdout",
     "output_type": "stream",
     "text": [
      "100\n",
      "1000.0\n",
      "John\n",
      "1\n",
      "1\n",
      "1\n"
     ]
    }
   ],
   "source": [
    "counter = 100          # An integer assignment\n",
    "miles   = 1000.0       # A floating point\n",
    "name    = \"John\"       # A string\n",
    "\n",
    "print(counter)\n",
    "print(miles)\n",
    "print(name)\n",
    "\n",
    "a = b = c = 1\n",
    "print(a)\n",
    "print(b)\n",
    "print(c)"
   ]
  },
  {
   "cell_type": "markdown",
   "metadata": {},
   "source": [
    "### --- Exrecise 2\n",
    "### Create variables with your first_name and last_name\n",
    "### print first_name and last_name"
   ]
  },
  {
   "cell_type": "code",
   "execution_count": 10,
   "metadata": {},
   "outputs": [
    {
     "name": "stdout",
     "output_type": "stream",
     "text": [
      "Andrii Polishhuk\n"
     ]
    }
   ],
   "source": [
    "# Exercise 2 - Python code\n",
    "name_str = 'Andrii Polishhuk'\n",
    "print (name_str)"
   ]
  },
  {
   "cell_type": "code",
   "execution_count": 7,
   "metadata": {},
   "outputs": [
    {
     "name": "stdout",
     "output_type": "stream",
     "text": [
      "Python for Data Science is on eight Saturdays 9 am to noon\n"
     ]
    }
   ],
   "source": [
    "# Exercise 2b -- write code in this cell and click on Run\n",
    "# Initialise following variables:\n",
    "class_name = \"Python for Data Science\"\n",
    "which_day = \"Saturdays\"\n",
    "Num_days = \"eight\"\n",
    "Class_timings = \"9 am to noon\"\n",
    "# You want to print the following:\n",
    "# \"Python for Data Science class is on eight Saturdays 9 am to noon\"\n",
    "\n",
    "print(class_name, 'is on', Num_days, which_day, Class_timings)"
   ]
  },
  {
   "cell_type": "code",
   "execution_count": 9,
   "metadata": {},
   "outputs": [
    {
     "name": "stdout",
     "output_type": "stream",
     "text": [
      "Hello World!\n",
      "H\n",
      "llo W\n",
      "llo World!\n",
      "Hello World!Hello World!\n",
      "Hello World! TEST\n",
      "!\n",
      "ld!\n"
     ]
    }
   ],
   "source": [
    "str = 'Hello World!'\n",
    "\n",
    "a = str\n",
    "b = str[0]\n",
    "c = str[2:7]\n",
    "d = str[2:]\n",
    "e = str * 2\n",
    "f = str + \" \" + \"TEST\"\n",
    "g = str[-1]\n",
    "h = str[-3:]\n",
    "print(a)          # Prints complete string\n",
    "print(b)       # Prints first character of the string\n",
    "print(c)     # Prints characters starting from 3rd to 5th\n",
    "print(d)      # Prints string starting from 3rd character\n",
    "print(e)      # Prints string two times\n",
    "print(f) # Prints concatenated string\n",
    "print(g)\n",
    "print(h)"
   ]
  },
  {
   "cell_type": "markdown",
   "metadata": {},
   "source": [
    "### --- Exercise 3 \n",
    "### print first two characters of first_name and last two characters of last_name"
   ]
  },
  {
   "cell_type": "code",
   "execution_count": 50,
   "metadata": {},
   "outputs": [
    {
     "name": "stdout",
     "output_type": "stream",
     "text": [
      "First two characters of first_name: An\n",
      "Last two characters of last_name: uk\n"
     ]
    }
   ],
   "source": [
    "# Exercise 3 - write code in this cell \n",
    "# You want to extract first letter from first_name, middle_name, and last_name\n",
    "\n",
    "first_name, last_name= 'Andrii','Polishhuk'\n",
    "print('First two characters of first_name:', first_name[0:2])\n",
    "print('Last two characters of last_name:', last_name[-2:])"
   ]
  },
  {
   "cell_type": "code",
   "execution_count": 17,
   "metadata": {},
   "outputs": [
    {
     "name": "stdout",
     "output_type": "stream",
     "text": [
      "['abcd', 786, 2.23, 'john', 70.2]\n",
      "abcd\n",
      "[786, 2.23]\n",
      "[2.23, 'john', 70.2]\n"
     ]
    }
   ],
   "source": [
    "###########################################################\n",
    "## Python Lists\n",
    "###########################################################\n",
    "list = [ 'abcd', 786 , 2.23, 'john', 70.2 ]\n",
    "\n",
    "print(list)          # Prints complete list\n",
    "print(list[0])       # Prints first element of the list\n",
    "print(list[1:3])     # Prints elements starting from 2nd till 3rd \n",
    "print(list[-3:])"
   ]
  },
  {
   "cell_type": "markdown",
   "metadata": {},
   "source": [
    "## Exercise 4 -- Lists\n",
    "## Define a new Python list \"new_list\" and initialize it with \"1\",\"A\",\"2\",\"B\",\"3\",\"C\"\n",
    "## Print values with alternate indices 0,2,4 and 1,3,5"
   ]
  },
  {
   "cell_type": "code",
   "execution_count": 19,
   "metadata": {},
   "outputs": [
    {
     "name": "stdout",
     "output_type": "stream",
     "text": [
      "1 2 3 A B C\n"
     ]
    }
   ],
   "source": [
    "## Write code for Exercise 4 in this cell\n",
    "new_list = [\"1\",\"A\",\"2\",\"B\",\"3\",\"C\"]\n",
    "print(new_list[0],new_list[2], new_list[4], new_list[1],new_list[3],new_list[5])\n"
   ]
  },
  {
   "cell_type": "code",
   "execution_count": 20,
   "metadata": {},
   "outputs": [
    {
     "name": "stdout",
     "output_type": "stream",
     "text": [
      "('abcde', 786, 2.23, 'john', 70.2)\n",
      "abcde\n",
      "(786, 2.23)\n",
      "aaaaa\n"
     ]
    }
   ],
   "source": [
    "###########################################################\n",
    "## Python Tuples\n",
    "###########################################################\n",
    "tuple = ('abcd', 786 , 2.23, 'john', 70.2 )\n",
    "tuple = ('abcde', 786 , 2.23, 'john', 70.2 )\n",
    "# tuple[0] = \"sanjay\"\n",
    "print(tuple)          # Prints complete list\n",
    "print(tuple[0])       # Prints first element of the list\n",
    "print(tuple[1:3])     # Prints elements starting from 2nd till 3rd \n",
    "var1 = \"jshjah\"\n",
    "var1 = \"aaaaa\"\n",
    "print(var1)"
   ]
  },
  {
   "cell_type": "code",
   "execution_count": null,
   "metadata": {},
   "outputs": [],
   "source": [
    "## Decisions in Python\n",
    "var = 150000\n",
    "if var == 2000:\n",
    "   print(\"1 - Got a true expression value\")\n",
    "   print(var)\n",
    "elif var == 150:\n",
    "   print(\"2 - Got a true expression value\")\n",
    "   print(var)\n",
    "elif var == 100:\n",
    "   print(\"3 - Got a true expression value\")\n",
    "   print(var)\n",
    "elif var == \"Sunnyvale\":\n",
    "    print(\"var is Sunnyvale\")\n",
    "else:\n",
    "   print(\"4 - Got a false expression value\")\n",
    "   print(var)"
   ]
  },
  {
   "cell_type": "markdown",
   "metadata": {},
   "source": [
    "### --- Exercise 5 - if .. elif .. else\n",
    "### Initialize string state_name to be \"California\" or \"Texas\"\n",
    "### write if ... elif ... else checking state_name \n",
    "### if state_name is California, print \"Golden State\"\n",
    "### if state_name is Texas, print \"Lone Star State\"\n",
    "### default else to printing \"Not Golden State or Lone Star State\" "
   ]
  },
  {
   "cell_type": "code",
   "execution_count": 23,
   "metadata": {},
   "outputs": [
    {
     "name": "stdout",
     "output_type": "stream",
     "text": [
      "Please enter a state name, you can chose \"California\" or \"Texas\":California\n",
      "Golden State\n"
     ]
    }
   ],
   "source": [
    "# Write code for Exercise 5 in this box\n",
    "state_name = input('Please enter a state name, you can chose \\\"California\\\" or \\\"Texas\\\": ')\n",
    "\n",
    "if state_name == 'California':\n",
    "       print('Golden State')\n",
    "elif state_name == 'Texas':\n",
    "       print('Lone Star State')\n",
    "else:\n",
    "       print('Please chose between \\\" California\\\" or \\\"Texas\\\"')"
   ]
  },
  {
   "cell_type": "code",
   "execution_count": null,
   "metadata": {},
   "outputs": [],
   "source": [
    "## For and while Loops\n",
    "## while loop\n",
    "count = 0\n",
    "while (count < 9):\n",
    "   print('The count is:', count)\n",
    "   count = count + 1\n",
    "\n",
    "## for loop\n",
    "for letter in 'Python':     # First Example\n",
    "   print('Current Letter :', letter)\n",
    "\n",
    "fruits = ['banana', 'apple',  'mango']\n",
    "for fruit in fruits:        # Second Example\n",
    "   print('Current fruit :', fruit)\n",
    "\n",
    "cars = [\"honda\",\"toyota\",\"tesla\"]\n",
    "cars.reverse()\n",
    "print(cars)"
   ]
  },
  {
   "cell_type": "markdown",
   "metadata": {},
   "source": [
    "### --- Exercise 6 -- print fruits in reverse order, one line per fruit\n",
    "### mango\n",
    "### apple\n",
    "### banana"
   ]
  },
  {
   "cell_type": "code",
   "execution_count": 30,
   "metadata": {},
   "outputs": [
    {
     "name": "stdout",
     "output_type": "stream",
     "text": [
      "0 banana\n",
      "1 apple\n",
      "2 mango\n"
     ]
    }
   ],
   "source": [
    "# Write code for Exercise 6 in this cell\n",
    "fruits = [\"mango\",\"apple\",\"banana\"]\n",
    "fruits.reverse()\n",
    "count = 0   \n",
    "for fruit in fruits:\n",
    "    print(fruits[count])\n",
    "    count +=1 "
   ]
  },
  {
   "cell_type": "code",
   "execution_count": null,
   "metadata": {},
   "outputs": [],
   "source": [
    "## Functions in Python\n",
    "def add_numbers(a=5,b=10):\n",
    "    c = a + b\n",
    "    return c\n",
    "\n",
    "result = add_numbers(2,12)\n",
    "print(result)\n",
    "result = add_numbers()\n",
    "print(result)\n",
    "result = add_numbers(2,12)\n",
    "print(result)\n",
    "result = add_numbers(100)\n",
    "print(result)"
   ]
  },
  {
   "cell_type": "markdown",
   "metadata": {},
   "source": [
    "### --- Exercise 7 -- functions -- \n",
    "### write function to find square(a) + square(b), given a and b\n",
    "### def square_and_sum(a,b)\n",
    "### when a = 2 and b = 3, the function should return 13\n",
    "###\n",
    "### write function to add strings \n",
    "### def add_strings(str1,str2)\n",
    "### when str1 = \"Hello\" and str2 = \"World\", \n",
    "### it should return \"Hello World!!!\" with space and !!!. "
   ]
  },
  {
   "cell_type": "code",
   "execution_count": 43,
   "metadata": {},
   "outputs": [
    {
     "data": {
      "text/plain": [
       "'Hello World!!!'"
      ]
     },
     "execution_count": 43,
     "metadata": {},
     "output_type": "execute_result"
    }
   ],
   "source": [
    "# Write code for Exercise 7 in this cell\n",
    "def square_and_sum(a,b):\n",
    "    f_result = a*a + b*b\n",
    "    return (f_result)\n",
    "\n",
    "square_and_sum (2,3)"
   ]
  },
  {
   "cell_type": "code",
   "execution_count": 45,
   "metadata": {},
   "outputs": [
    {
     "data": {
      "text/plain": [
       "'Hello World!!!'"
      ]
     },
     "execution_count": 45,
     "metadata": {},
     "output_type": "execute_result"
    }
   ],
   "source": [
    "def add_strings(str1,str2):\n",
    "    string = str1+' '+str2+'!!!'\n",
    "    return(string)\n",
    "\n",
    "add_strings('Hello', 'World')"
   ]
  },
  {
   "cell_type": "code",
   "execution_count": null,
   "metadata": {},
   "outputs": [],
   "source": [
    "for x in range(10): \n",
    "    print(x)"
   ]
  },
  {
   "cell_type": "code",
   "execution_count": null,
   "metadata": {},
   "outputs": [],
   "source": [
    "# range also follows the format range(start_value,stop_value,step_value)\n",
    "for x in range(1,6,2):\n",
    "    print(x)"
   ]
  },
  {
   "cell_type": "markdown",
   "metadata": {},
   "source": [
    "### --- Exercise 8 -- using range\n",
    "### print numbers 10, 9, 8, ..., 1"
   ]
  },
  {
   "cell_type": "code",
   "execution_count": 48,
   "metadata": {},
   "outputs": [
    {
     "name": "stdout",
     "output_type": "stream",
     "text": [
      "10\n",
      "9\n",
      "8\n",
      "7\n",
      "6\n",
      "5\n",
      "4\n",
      "3\n",
      "2\n",
      "1\n"
     ]
    }
   ],
   "source": [
    "# Write code for Exercise 8 in this cell\n",
    "\n",
    "for x in range(10): \n",
    "    print(abs(10-x))"
   ]
  },
  {
   "cell_type": "code",
   "execution_count": 49,
   "metadata": {},
   "outputs": [
    {
     "name": "stdout",
     "output_type": "stream",
     "text": [
      "list1-a = [1, 11, 111, 1111]\n",
      "list1-a = [1, 11, 111, 1111]\n",
      "list1-b = [1, 11, 111, 1111, 2, 22, 222]\n",
      "list1-c = [1, 11, 111, 1111, 2, 22]\n",
      "list1-d = [1, 2, 11, 22, 111, 1111]\n",
      "list1-e = [1111, 111, 22, 11, 2, 1]\n"
     ]
    }
   ],
   "source": [
    "## Appending and extending Python lists\n",
    "list1 = [1,11,111]\n",
    "list2 = [2,22,222]\n",
    "\n",
    "list1.append(1111)\n",
    "print(\"list1-a = %s\" % list1)\n",
    "print(\"list1-a =\",list1)\n",
    "\n",
    "list1.extend(list2)\n",
    "print(\"list1-b = %s\" % list1)\n",
    "\n",
    "list1.remove(222)\n",
    "print(\"list1-c = %s\" % list1)\n",
    "\n",
    "list1.sort()\n",
    "print(\"list1-d = %s\" % list1)\n",
    "\n",
    "list1.sort(reverse=True)\n",
    "print(\"list1-e = %s\" % list1)"
   ]
  },
  {
   "cell_type": "markdown",
   "metadata": {},
   "source": [
    "### --- Exercise 9 -- lists with strings\n",
    "### Initialize states_list with California, Texas, Arizona\n",
    "### step 1: Add Florida\n",
    "### step 2: Remove Texas\n",
    "### step 3: Sort ascending order, and print the list\n",
    "### step 4: Sort descending order, and print the list"
   ]
  },
  {
   "cell_type": "code",
   "execution_count": 57,
   "metadata": {},
   "outputs": [
    {
     "name": "stdout",
     "output_type": "stream",
     "text": [
      "['Arizona', 'California', 'Florida']\n",
      "['Florida', 'California', 'Arizona']\n"
     ]
    }
   ],
   "source": [
    "states_list = ['California', 'Texas', 'Arizona']\n",
    "states_list.append('Florida')\n",
    "states_list.remove('Texas')\n",
    "states_list.sort()\n",
    "print(states_list)\n",
    "states_list.sort(reverse=True)\n",
    "print(states_list)"
   ]
  },
  {
   "cell_type": "code",
   "execution_count": null,
   "metadata": {},
   "outputs": [],
   "source": [
    "## Integer and floating division\n",
    "def div1(x,y):\n",
    "    print(x/y)\n",
    "    \n",
    "def div2(x,y):\n",
    "    print(x//y) # integer division\n",
    "\n",
    "div1(5,2)\n",
    "div1(5.,2)\n",
    "div2(5,2)\n",
    "div2(5.,2.)"
   ]
  },
  {
   "cell_type": "code",
   "execution_count": 58,
   "metadata": {},
   "outputs": [
    {
     "name": "stdout",
     "output_type": "stream",
     "text": [
      "5\n",
      "22\n",
      "99\n"
     ]
    }
   ],
   "source": [
    "# Printing list length\n",
    "list1 = ['a', 'b', 'c', 'd', 'e']\n",
    "print(len(list1))\n",
    "\n",
    "list2 = [11,22,33,44,55,66,77,88,99,110]\n",
    "print(list2[1])\n",
    "\n",
    "print(list2[-2])       "
   ]
  },
  {
   "cell_type": "code",
   "execution_count": 59,
   "metadata": {},
   "outputs": [
    {
     "name": "stdout",
     "output_type": "stream",
     "text": [
      "1-- 1\n",
      "2-- -1\n",
      "3-- 1\n",
      "4-- 7\n"
     ]
    }
   ],
   "source": [
    "state_name = \"California\"\n",
    "find_str = state_name.find(\"a\")\n",
    "print(\"1--\",find_str)\n",
    "\n",
    "find_str = state_name.find(\"z\")\n",
    "print(\"2--\",find_str)\n",
    "\n",
    "count_str = state_name.count(\"a\",0,4)\n",
    "print(\"3--\",count_str)\n",
    "\n",
    "find_str = state_name.find(\"nia\")\n",
    "print(\"4--\",find_str)"
   ]
  },
  {
   "cell_type": "code",
   "execution_count": null,
   "metadata": {},
   "outputs": [],
   "source": [
    "### --- Exercise 10 -- find, count --- define the string Albert_Einstein\n",
    "### Albert_Einstein = \"Life is like riding a bicycle. To keep your balance \n",
    "### you must keep moving.\"\n",
    "### Find number of occurences for: you, ing, life (all case sensitive)"
   ]
  },
  {
   "cell_type": "code",
   "execution_count": 63,
   "metadata": {},
   "outputs": [
    {
     "name": "stdout",
     "output_type": "stream",
     "text": [
      "Number of occurences for \"you\"  :  2\n",
      "Number of occurences for \"ing\"  :  2\n",
      "Number of occurences for \"Life\" :  1\n"
     ]
    }
   ],
   "source": [
    "# Write code for Exercise 10 in this cell\n",
    "Albert_Einstein = \"Life is like riding a bicycle. To keep your balance you must keep moving.\"\n",
    "\n",
    "you_count = Albert_Einstein.count(\"you\")\n",
    "ing_count = Albert_Einstein.count(\"ing\")\n",
    "Life_count = Albert_Einstein.count(\"Life\")\n",
    "\n",
    "print ('Number of occurences for \\\"you\\\"  : ', you_count)\n",
    "print ('Number of occurences for \\\"ing\\\"  : ', ing_count)\n",
    "print ('Number of occurences for \\\"Life\\\" : ', Life_count)\n",
    "    "
   ]
  },
  {
   "cell_type": "code",
   "execution_count": null,
   "metadata": {},
   "outputs": [],
   "source": [
    "# Splitting strings\n",
    "ss = \"Python for Data Science at FUHSD Adult School\"\n",
    "\n",
    "words = ss.split()\n",
    "print(\"Words is a list: \",words)\n",
    "\n",
    "ss1 = \" \".join(words)\n",
    "print(\"ss1 is a string: \",ss1)"
   ]
  },
  {
   "cell_type": "code",
   "execution_count": null,
   "metadata": {},
   "outputs": [],
   "source": [
    "states_1 = [\"Washington\",\"Oregon\",\"California\"]\n",
    "states_2 = [\"Texas\",\"Arizona\",\"New Mexico\",\"Nevada\"]\n",
    "states_3 = [\"Florida\",\"Georgia\",\"Alabama\",\"Louisiana\"]"
   ]
  },
  {
   "cell_type": "markdown",
   "metadata": {},
   "source": [
    "### --- Exrecise 11 Concatenate lists and print alternate\n",
    "### 1) create a new list \"states_123\" which includes states_1,\n",
    "### states_2, and states_3\n",
    "### 2) Sort the list in ascending order\n",
    "### 3) print alternate state names from states_123"
   ]
  },
  {
   "cell_type": "code",
   "execution_count": 86,
   "metadata": {},
   "outputs": [
    {
     "name": "stdout",
     "output_type": "stream",
     "text": [
      "Concatenated list which includes states_1, states_2, and states_3:\n",
      " ['Washington', 'Oregon', 'California', 'Texas', 'Arizona', 'New Mexico', 'Nevada', 'Florida', 'Georgia', 'Alabama', 'Louisiana']\n",
      "Full list sorted in ascending order :\n",
      " ['Alabama', 'Arizona', 'California', 'Florida', 'Georgia', 'Louisiana', 'Nevada', 'New Mexico', 'Oregon', 'Texas', 'Washington']\n"
     ]
    }
   ],
   "source": [
    "states_1 = [\"Washington\",\"Oregon\",\"California\"]\n",
    "states_2 = [\"Texas\",\"Arizona\",\"New Mexico\",\"Nevada\"]\n",
    "states_3 = [\"Florida\",\"Georgia\",\"Alabama\",\"Louisiana\"]\n",
    "\n",
    "states_2.extend(states_3)\n",
    "states_1.extend(states_2)\n",
    "states_123 = states_1\n",
    "print ('Concatenated list which includes states_1, states_2, and states_3:\\n', states_123)\n",
    "states_123.sort()\n",
    "print ('Full list sorted in ascending order :\\n', states_123)"
   ]
  },
  {
   "cell_type": "code",
   "execution_count": null,
   "metadata": {},
   "outputs": [],
   "source": []
  }
 ],
 "metadata": {
  "anaconda-cloud": {},
  "kernelspec": {
   "display_name": "Python 3",
   "language": "python",
   "name": "python3"
  },
  "language_info": {
   "codemirror_mode": {
    "name": "ipython",
    "version": 3
   },
   "file_extension": ".py",
   "mimetype": "text/x-python",
   "name": "python",
   "nbconvert_exporter": "python",
   "pygments_lexer": "ipython3",
   "version": "3.6.5"
  }
 },
 "nbformat": 4,
 "nbformat_minor": 2
}
